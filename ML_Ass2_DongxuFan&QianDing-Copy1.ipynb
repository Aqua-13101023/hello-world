{
 "cells": [
  {
   "cell_type": "code",
   "execution_count": null,
   "metadata": {},
   "outputs": [],
   "source": []
  },
  {
   "cell_type": "code",
   "execution_count": 1,
   "metadata": {},
   "outputs": [
    {
     "name": "stdout",
     "output_type": "stream",
     "text": [
      "(2769, 9)\n"
     ]
    }
   ],
   "source": [
    "#import data\n",
    "from pandas import read_csv \n",
    "filename='workstation.csv'\n",
    "names=['date','USA','UK','FRA','DE','DJAI','FTSE100','CAC40','DAX30']\n",
    "data=read_csv(filename,names=names)\n",
    "print(data.shape)"
   ]
  },
  {
   "cell_type": "code",
   "execution_count": null,
   "metadata": {},
   "outputs": [],
   "source": [
    "# model \n",
    "import statsmodels.api as sm\n",
    "import statsmodels.stats.diagnostic\n",
    "# figure\n",
    "import matplotlib.pyplot as plt\n",
    "# others\n",
    "import pandas as pd\n",
    "import numpy as np"
   ]
  },
  {
   "cell_type": "code",
   "execution_count": null,
   "metadata": {},
   "outputs": [],
   "source": [
    "#plot data\n",
    "import matplotlib.pyplot as plt\n",
    "%matplotlib inline\n",
    "wb.plot(figsize=(16,6))\n",
    "plt.show()"
   ]
  },
  {
   "cell_type": "code",
   "execution_count": null,
   "metadata": {},
   "outputs": [],
   "source": [
    "#ADF stationary test \n",
    "result = ts.adfuller(x, 1)\n",
    "adfResult = sm.tsa.stattools.adfuller(data,maxlags)\n",
    "print = pd.DataFrame(index=['Test Statistic Value', \"p-value\", \"Lags Used\", \"Number of Observations Used\",\n",
    "                                         \"Critical Value(1%)\", \"Critical Value(5%)\", \"Critical Value(10%)\"],\n",
    "                                  columns=['value'])\n",
    " print ['value']['Test Statistic Value'] = adfResult[0]\n",
    " print ['value']['p-value'] = adfResult[1]\n",
    " output['value']['Lags Used'] = adfResult[2]\n",
    " output['value']['Number of Observations Used'] = adfResult[3]\n",
    " output['value']['Critical Value(1%)'] = adfResult[4]['1%']\n",
    " output['value']['Critical Value(5%)'] = adfResult[4]['5%']\n",
    " output['value']['Critical Value(10%)'] = adfResult[4]['10%']"
   ]
  },
  {
   "cell_type": "code",
   "execution_count": null,
   "metadata": {},
   "outputs": [],
   "source": [
    "# Cointegration test \n",
    "def coint(y0, y1, trend='c', method='aeg', maxlag=None, autolag='aic',\n",
    "          return_results=None):\n",
    "    coint_johansen(df,0,1)\n",
    "    "
   ]
  },
  {
   "cell_type": "code",
   "execution_count": null,
   "metadata": {},
   "outputs": [],
   "source": [
    "#VAR model\n",
    "lnDataDict = {'lnSHFEDiff':lnSHFEDiff,'lnXAUDiff':lnXAUDiff}\n",
    "lnDataDictSeries = pd.DataFrame(lnDataDict,index=lnSHFEDiffIndex)\n",
    "data = lnDataDictSeries[['lnSHFEDiff','lnXAUDiff']]"
   ]
  },
  {
   "cell_type": "code",
   "execution_count": null,
   "metadata": {},
   "outputs": [],
   "source": [
    "#Granger test\n",
    "from statsmodels.tsa.stattools import grangercausalitytests\n",
    "\n",
    "n = 1000\n",
    "ls = np.linspace(0, 2*np.pi, n)\n",
    "\n",
    "df1 = pd.DataFrame(np.sin(ls))\n",
    "df2 = pd.DataFrame(2*np.sin(1+ls))\n",
    "\n",
    "df = pd.concat([df1, df2], axis=1)\n",
    "\n",
    "df.plot()\n",
    "\n",
    "grangercausalitytests(wb, maxlag=3)"
   ]
  },
  {
   "cell_type": "code",
   "execution_count": null,
   "metadata": {},
   "outputs": [],
   "source": []
  },
  {
   "cell_type": "code",
   "execution_count": null,
   "metadata": {},
   "outputs": [],
   "source": []
  }
 ],
 "metadata": {
  "kernelspec": {
   "display_name": "Python 3",
   "language": "python",
   "name": "python3"
  },
  "language_info": {
   "codemirror_mode": {
    "name": "ipython",
    "version": 3
   },
   "file_extension": ".py",
   "mimetype": "text/x-python",
   "name": "python",
   "nbconvert_exporter": "python",
   "pygments_lexer": "ipython3",
   "version": "3.7.3"
  }
 },
 "nbformat": 4,
 "nbformat_minor": 2
}
